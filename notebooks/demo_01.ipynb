{
 "cells": [
  {
   "metadata": {},
   "cell_type": "markdown",
   "source": "# Using the yOOInk package",
   "id": "b7a93d63536a5fd1"
  },
  {
   "metadata": {
    "ExecuteTime": {
     "end_time": "2024-09-15T12:33:36.738195Z",
     "start_time": "2024-09-15T12:33:36.726343Z"
    }
   },
   "cell_type": "code",
   "source": "import yooink",
   "id": "9d22ac1310c6993c",
   "outputs": [],
   "execution_count": 1
  },
  {
   "metadata": {
    "ExecuteTime": {
     "end_time": "2024-09-15T12:35:34.183391Z",
     "start_time": "2024-09-15T12:35:34.173225Z"
    }
   },
   "cell_type": "code",
   "source": "yooink.sensor.info",
   "id": "3ad18a2e688f3fd8",
   "outputs": [
    {
     "ename": "AttributeError",
     "evalue": "module 'yooink' has no attribute 'sensor'",
     "output_type": "error",
     "traceback": [
      "\u001B[0;31m---------------------------------------------------------------------------\u001B[0m",
      "\u001B[0;31mAttributeError\u001B[0m                            Traceback (most recent call last)",
      "Cell \u001B[0;32mIn[5], line 1\u001B[0m\n\u001B[0;32m----> 1\u001B[0m \u001B[43myooink\u001B[49m\u001B[38;5;241;43m.\u001B[39;49m\u001B[43msensor\u001B[49m\u001B[38;5;241m.\u001B[39minfo\n",
      "\u001B[0;31mAttributeError\u001B[0m: module 'yooink' has no attribute 'sensor'"
     ]
    }
   ],
   "execution_count": 5
  },
  {
   "metadata": {},
   "cell_type": "code",
   "outputs": [],
   "execution_count": null,
   "source": "",
   "id": "8dccfbac0b4ab43f"
  }
 ],
 "metadata": {
  "kernelspec": {
   "display_name": "Python 3",
   "language": "python",
   "name": "python3"
  },
  "language_info": {
   "codemirror_mode": {
    "name": "ipython",
    "version": 2
   },
   "file_extension": ".py",
   "mimetype": "text/x-python",
   "name": "python",
   "nbconvert_exporter": "python",
   "pygments_lexer": "ipython2",
   "version": "2.7.6"
  }
 },
 "nbformat": 4,
 "nbformat_minor": 5
}
