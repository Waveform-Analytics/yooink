{
 "cells": [
  {
   "cell_type": "markdown",
   "id": "e6170d4e-aca2-4360-a914-71be8f8d03d8",
   "metadata": {
    "collapsed": true,
    "jupyter": {
     "outputs_hidden": true
    }
   },
   "source": [
    "# Step 2: Get Data\n",
    "\n",
    "In this demo we'll actually grab some data using yooink 😎 \n",
    "\n",
    "If you feel like you're missing something (like details on API credentials) go back to the getting_started.ipynb notebook.\n",
    "\n",
    "Let's go!"
   ]
  },
  {
   "cell_type": "code",
   "id": "7ad01d9a-7054-419f-a91d-268c68bfaca2",
   "metadata": {
    "ExecuteTime": {
     "end_time": "2024-09-24T00:57:54.462793Z",
     "start_time": "2024-09-24T00:57:53.909166Z"
    }
   },
   "source": [
    "from yooink.api.client import APIClient\n",
    "from yooink.request.request_manager import RequestManager\n",
    "from yooink.data.data_manager import DataManager\n",
    "\n",
    "import os"
   ],
   "outputs": [],
   "execution_count": 1
  },
  {
   "cell_type": "code",
   "id": "64ab38ab-aa3e-4f9e-916b-cecd69859ead",
   "metadata": {
    "ExecuteTime": {
     "end_time": "2024-09-24T00:57:54.466977Z",
     "start_time": "2024-09-24T00:57:54.464066Z"
    }
   },
   "source": [
    "# Initialize the API client with your username and token. \n",
    "username = os.getenv('OOI_USER')\n",
    "token = os.getenv('OOI_TOKEN')"
   ],
   "outputs": [],
   "execution_count": 2
  },
  {
   "cell_type": "code",
   "id": "642f740872cfd55c",
   "metadata": {
    "ExecuteTime": {
     "end_time": "2024-09-24T00:57:54.472059Z",
     "start_time": "2024-09-24T00:57:54.468288Z"
    }
   },
   "source": [
    "api_client = APIClient(username, token)\n",
    "data_manager = DataManager()\n",
    "request_manager = RequestManager(api_client, data_manager)"
   ],
   "outputs": [],
   "execution_count": 3
  },
  {
   "cell_type": "code",
   "id": "30d6275b5470d36a",
   "metadata": {
    "ExecuteTime": {
     "end_time": "2024-09-24T00:57:54.477886Z",
     "start_time": "2024-09-24T00:57:54.474615Z"
    }
   },
   "source": [
    "# Set parameters for the data request\n",
    "site = \"CE02SHSM\"\n",
    "node = \"SBD11\"\n",
    "sensor = \"06-METBKA000\"\n",
    "method = \"telemetered\"\n",
    "stream = \"metbk_a_dcl_instrument\"\n",
    "beginDT = \"2023-03-01T00:00:00.000Z\"\n",
    "endDT = \"2023-03-14T00:00:00.000Z\""
   ],
   "outputs": [],
   "execution_count": 4
  },
  {
   "metadata": {},
   "cell_type": "markdown",
   "source": [
    "## Fetch the data from THREDDS\n",
    "\n",
    "In this step, we fetch the dataset URLs from the THREDDS server. It will \n",
    "make 5 attempts with increasing time gaps. You might want to grab a coffee \n",
    "while you wait. It can take a while for the THREDDS URL to be ready. If the \n",
    "request times out (honestly it probably will) just give it a few minutes. \n",
    "You will probably get an email when the dataset is ready for download. When \n",
    "you try again, it will not go through the entire request process bc the \n",
    "request URL is stored in a file called url_cache.json (unless you explicitly\n",
    " asked not to do that when initializing the RequestManager). \n"
   ],
   "id": "33c352e11ebf8247"
  },
  {
   "cell_type": "code",
   "id": "d1ef92b74ba02a93",
   "metadata": {
    "ExecuteTime": {
     "end_time": "2024-09-24T01:28:50.159815Z",
     "start_time": "2024-09-24T01:08:37.561792Z"
    }
   },
   "source": [
    "datasets = request_manager.fetch_data(site, node, sensor, method, \n",
    "                                      stream, beginDT, endDT)\n"
   ],
   "outputs": [
    {
     "name": "stdout",
     "output_type": "stream",
     "text": [
      "Requesting data for site: CE02SHSM, node: SBD11, sensor: 06-METBKA000, method: telemetered, stream: metbk_a_dcl_instrument\n",
      "Waiting for OOINet to process and prepare the data. This may take up to 20 minutes.\n"
     ]
    },
    {
     "name": "stderr",
     "output_type": "stream",
     "text": [
      "Waiting:   0%|          | 1/400 [00:15<1:46:16, 15.98s/it]"
     ]
    },
    {
     "name": "stdout",
     "output_type": "stream",
     "text": [
      "Error checking status: HTTPSConnectionPool(host='downloads-west.oceanobservatories.org', port=443): Max retries exceeded with url: /async_results/michelle@waveformanalytics.com/20240924T010838162Z-CE02SHSM-SBD11-06-METBKA000-telemetered-metbk_a_dcl_instrument/status.txt (Caused by ResponseError('too many 404 error responses'))\n"
     ]
    },
    {
     "name": "stderr",
     "output_type": "stream",
     "text": [
      "Waiting:   0%|          | 2/400 [00:34<1:56:15, 17.53s/it]"
     ]
    },
    {
     "name": "stdout",
     "output_type": "stream",
     "text": [
      "Error checking status: HTTPSConnectionPool(host='downloads-west.oceanobservatories.org', port=443): Max retries exceeded with url: /async_results/michelle@waveformanalytics.com/20240924T010838162Z-CE02SHSM-SBD11-06-METBKA000-telemetered-metbk_a_dcl_instrument/status.txt (Caused by ResponseError('too many 404 error responses'))\n"
     ]
    },
    {
     "name": "stderr",
     "output_type": "stream",
     "text": [
      "Waiting:   1%|          | 3/400 [00:53<1:59:16, 18.03s/it]"
     ]
    },
    {
     "name": "stdout",
     "output_type": "stream",
     "text": [
      "Error checking status: HTTPSConnectionPool(host='downloads-west.oceanobservatories.org', port=443): Max retries exceeded with url: /async_results/michelle@waveformanalytics.com/20240924T010838162Z-CE02SHSM-SBD11-06-METBKA000-telemetered-metbk_a_dcl_instrument/status.txt (Caused by ResponseError('too many 404 error responses'))\n"
     ]
    },
    {
     "name": "stderr",
     "output_type": "stream",
     "text": [
      "Waiting:   1%|          | 4/400 [01:11<2:00:33, 18.27s/it]"
     ]
    },
    {
     "name": "stdout",
     "output_type": "stream",
     "text": [
      "Error checking status: HTTPSConnectionPool(host='downloads-west.oceanobservatories.org', port=443): Max retries exceeded with url: /async_results/michelle@waveformanalytics.com/20240924T010838162Z-CE02SHSM-SBD11-06-METBKA000-telemetered-metbk_a_dcl_instrument/status.txt (Caused by ResponseError('too many 404 error responses'))\n"
     ]
    },
    {
     "name": "stderr",
     "output_type": "stream",
     "text": [
      "Waiting:   1%|▏         | 5/400 [01:33<2:07:07, 19.31s/it]"
     ]
    },
    {
     "name": "stdout",
     "output_type": "stream",
     "text": [
      "Error checking status: HTTPSConnectionPool(host='downloads-west.oceanobservatories.org', port=443): Max retries exceeded with url: /async_results/michelle@waveformanalytics.com/20240924T010838162Z-CE02SHSM-SBD11-06-METBKA000-telemetered-metbk_a_dcl_instrument/status.txt (Caused by ResponseError('too many 404 error responses'))\n"
     ]
    },
    {
     "name": "stderr",
     "output_type": "stream",
     "text": [
      "Waiting:   2%|▏         | 6/400 [01:51<2:05:15, 19.08s/it]"
     ]
    },
    {
     "name": "stdout",
     "output_type": "stream",
     "text": [
      "Error checking status: HTTPSConnectionPool(host='downloads-west.oceanobservatories.org', port=443): Max retries exceeded with url: /async_results/michelle@waveformanalytics.com/20240924T010838162Z-CE02SHSM-SBD11-06-METBKA000-telemetered-metbk_a_dcl_instrument/status.txt (Caused by ResponseError('too many 404 error responses'))\n"
     ]
    },
    {
     "name": "stderr",
     "output_type": "stream",
     "text": [
      "Waiting:   2%|▏         | 7/400 [02:10<2:04:00, 18.93s/it]"
     ]
    },
    {
     "name": "stdout",
     "output_type": "stream",
     "text": [
      "Error checking status: HTTPSConnectionPool(host='downloads-west.oceanobservatories.org', port=443): Max retries exceeded with url: /async_results/michelle@waveformanalytics.com/20240924T010838162Z-CE02SHSM-SBD11-06-METBKA000-telemetered-metbk_a_dcl_instrument/status.txt (Caused by ResponseError('too many 404 error responses'))\n"
     ]
    },
    {
     "name": "stderr",
     "output_type": "stream",
     "text": [
      "Waiting:   2%|▏         | 8/400 [02:28<2:03:00, 18.83s/it]"
     ]
    },
    {
     "name": "stdout",
     "output_type": "stream",
     "text": [
      "Error checking status: HTTPSConnectionPool(host='downloads-west.oceanobservatories.org', port=443): Max retries exceeded with url: /async_results/michelle@waveformanalytics.com/20240924T010838162Z-CE02SHSM-SBD11-06-METBKA000-telemetered-metbk_a_dcl_instrument/status.txt (Caused by ResponseError('too many 404 error responses'))\n"
     ]
    },
    {
     "name": "stderr",
     "output_type": "stream",
     "text": [
      "Waiting:   2%|▏         | 9/400 [02:47<2:02:14, 18.76s/it]"
     ]
    },
    {
     "name": "stdout",
     "output_type": "stream",
     "text": [
      "Error checking status: HTTPSConnectionPool(host='downloads-west.oceanobservatories.org', port=443): Max retries exceeded with url: /async_results/michelle@waveformanalytics.com/20240924T010838162Z-CE02SHSM-SBD11-06-METBKA000-telemetered-metbk_a_dcl_instrument/status.txt (Caused by ResponseError('too many 404 error responses'))\n"
     ]
    },
    {
     "name": "stderr",
     "output_type": "stream",
     "text": [
      "Waiting:   2%|▎         | 10/400 [03:06<2:01:39, 18.72s/it]"
     ]
    },
    {
     "name": "stdout",
     "output_type": "stream",
     "text": [
      "Error checking status: HTTPSConnectionPool(host='downloads-west.oceanobservatories.org', port=443): Max retries exceeded with url: /async_results/michelle@waveformanalytics.com/20240924T010838162Z-CE02SHSM-SBD11-06-METBKA000-telemetered-metbk_a_dcl_instrument/status.txt (Caused by ResponseError('too many 404 error responses'))\n"
     ]
    },
    {
     "name": "stderr",
     "output_type": "stream",
     "text": [
      "Waiting:   2%|▎         | 10/400 [03:10<2:03:47, 19.05s/it]\n",
      "Processing files:   0%|          | 0/2 [00:00<?, ?it/s]"
     ]
    },
    {
     "ename": "KeyboardInterrupt",
     "evalue": "",
     "output_type": "error",
     "traceback": [
      "\u001B[0;31m---------------------------------------------------------------------------\u001B[0m",
      "\u001B[0;31mKeyboardInterrupt\u001B[0m                         Traceback (most recent call last)",
      "Cell \u001B[0;32mIn[6], line 1\u001B[0m\n\u001B[0;32m----> 1\u001B[0m datasets \u001B[38;5;241m=\u001B[39m \u001B[43mrequest_manager\u001B[49m\u001B[38;5;241;43m.\u001B[39;49m\u001B[43mfetch_data\u001B[49m\u001B[43m(\u001B[49m\u001B[43msite\u001B[49m\u001B[43m,\u001B[49m\u001B[43m \u001B[49m\u001B[43mnode\u001B[49m\u001B[43m,\u001B[49m\u001B[43m \u001B[49m\u001B[43msensor\u001B[49m\u001B[43m,\u001B[49m\u001B[43m \u001B[49m\u001B[43mmethod\u001B[49m\u001B[43m,\u001B[49m\u001B[43m \u001B[49m\n\u001B[1;32m      2\u001B[0m \u001B[43m                                      \u001B[49m\u001B[43mstream\u001B[49m\u001B[43m,\u001B[49m\u001B[43m \u001B[49m\u001B[43mbeginDT\u001B[49m\u001B[43m,\u001B[49m\u001B[43m \u001B[49m\u001B[43mendDT\u001B[49m\u001B[43m)\u001B[49m\n",
      "File \u001B[0;32m~/Documents/WORKSPACE/yooink/src/yooink/request/request_manager.py:268\u001B[0m, in \u001B[0;36mRequestManager.fetch_data\u001B[0;34m(self, site, node, sensor, method, stream, begin_datetime, end_datetime, use_dask)\u001B[0m\n\u001B[1;32m    264\u001B[0m     \u001B[38;5;28;01mreturn\u001B[39;00m \u001B[38;5;28;01mNone\u001B[39;00m\n\u001B[1;32m    266\u001B[0m datasets \u001B[38;5;241m=\u001B[39m \u001B[38;5;28mself\u001B[39m\u001B[38;5;241m.\u001B[39mget_filtered_files(data)\n\u001B[0;32m--> 268\u001B[0m frames \u001B[38;5;241m=\u001B[39m \u001B[38;5;28;43mself\u001B[39;49m\u001B[38;5;241;43m.\u001B[39;49m\u001B[43mdata_manager\u001B[49m\u001B[38;5;241;43m.\u001B[39;49m\u001B[43mprocess_files\u001B[49m\u001B[43m(\u001B[49m\u001B[43mdatasets\u001B[49m\u001B[43m,\u001B[49m\u001B[43m \u001B[49m\u001B[43muse_dask\u001B[49m\u001B[43m)\u001B[49m\n\u001B[1;32m    269\u001B[0m merged_data \u001B[38;5;241m=\u001B[39m \u001B[38;5;28mself\u001B[39m\u001B[38;5;241m.\u001B[39mdata_manager\u001B[38;5;241m.\u001B[39mmerge_datasets(frames)\n\u001B[1;32m    270\u001B[0m optimized_data \u001B[38;5;241m=\u001B[39m \u001B[38;5;28mself\u001B[39m\u001B[38;5;241m.\u001B[39mdata_manager\u001B[38;5;241m.\u001B[39moptimize_dataset(merged_data)\n",
      "File \u001B[0;32m~/Documents/WORKSPACE/yooink/src/yooink/data/data_manager.py:38\u001B[0m, in \u001B[0;36mDataManager.process_files\u001B[0;34m(datasets, use_dask)\u001B[0m\n\u001B[1;32m     34\u001B[0m         frames \u001B[38;5;241m=\u001B[39m \u001B[38;5;28mlist\u001B[39m(tqdm(executor\u001B[38;5;241m.\u001B[39mmap(part_files, datasets),\n\u001B[1;32m     35\u001B[0m                            total\u001B[38;5;241m=\u001B[39m\u001B[38;5;28mlen\u001B[39m(datasets),\n\u001B[1;32m     36\u001B[0m                            desc\u001B[38;5;241m=\u001B[39m\u001B[38;5;124m'\u001B[39m\u001B[38;5;124mProcessing files\u001B[39m\u001B[38;5;124m'\u001B[39m))\n\u001B[1;32m     37\u001B[0m \u001B[38;5;28;01melse\u001B[39;00m:\n\u001B[0;32m---> 38\u001B[0m     frames \u001B[38;5;241m=\u001B[39m \u001B[43m[\u001B[49m\u001B[43mDataManager\u001B[49m\u001B[38;5;241;43m.\u001B[39;49m\u001B[43mprocess_file\u001B[49m\u001B[43m(\u001B[49m\u001B[43mf\u001B[49m\u001B[43m,\u001B[49m\u001B[43m \u001B[49m\u001B[43muse_dask\u001B[49m\u001B[38;5;241;43m=\u001B[39;49m\u001B[43muse_dask\u001B[49m\u001B[43m)\u001B[49m\u001B[43m \u001B[49m\u001B[38;5;28;43;01mfor\u001B[39;49;00m\u001B[43m \u001B[49m\u001B[43mf\u001B[49m\u001B[43m \u001B[49m\u001B[38;5;129;43;01min\u001B[39;49;00m\n\u001B[1;32m     39\u001B[0m \u001B[43m              \u001B[49m\u001B[43mtqdm\u001B[49m\u001B[43m(\u001B[49m\u001B[43mdatasets\u001B[49m\u001B[43m,\u001B[49m\u001B[43m \u001B[49m\u001B[43mdesc\u001B[49m\u001B[38;5;241;43m=\u001B[39;49m\u001B[38;5;124;43m'\u001B[39;49m\u001B[38;5;124;43mProcessing files\u001B[39;49m\u001B[38;5;124;43m'\u001B[39;49m\u001B[43m)\u001B[49m\u001B[43m]\u001B[49m\n\u001B[1;32m     40\u001B[0m \u001B[38;5;28;01mreturn\u001B[39;00m frames\n",
      "File \u001B[0;32m~/Documents/WORKSPACE/yooink/src/yooink/data/data_manager.py:38\u001B[0m, in \u001B[0;36m<listcomp>\u001B[0;34m(.0)\u001B[0m\n\u001B[1;32m     34\u001B[0m         frames \u001B[38;5;241m=\u001B[39m \u001B[38;5;28mlist\u001B[39m(tqdm(executor\u001B[38;5;241m.\u001B[39mmap(part_files, datasets),\n\u001B[1;32m     35\u001B[0m                            total\u001B[38;5;241m=\u001B[39m\u001B[38;5;28mlen\u001B[39m(datasets),\n\u001B[1;32m     36\u001B[0m                            desc\u001B[38;5;241m=\u001B[39m\u001B[38;5;124m'\u001B[39m\u001B[38;5;124mProcessing files\u001B[39m\u001B[38;5;124m'\u001B[39m))\n\u001B[1;32m     37\u001B[0m \u001B[38;5;28;01melse\u001B[39;00m:\n\u001B[0;32m---> 38\u001B[0m     frames \u001B[38;5;241m=\u001B[39m [\u001B[43mDataManager\u001B[49m\u001B[38;5;241;43m.\u001B[39;49m\u001B[43mprocess_file\u001B[49m\u001B[43m(\u001B[49m\u001B[43mf\u001B[49m\u001B[43m,\u001B[49m\u001B[43m \u001B[49m\u001B[43muse_dask\u001B[49m\u001B[38;5;241;43m=\u001B[39;49m\u001B[43muse_dask\u001B[49m\u001B[43m)\u001B[49m \u001B[38;5;28;01mfor\u001B[39;00m f \u001B[38;5;129;01min\u001B[39;00m\n\u001B[1;32m     39\u001B[0m               tqdm(datasets, desc\u001B[38;5;241m=\u001B[39m\u001B[38;5;124m'\u001B[39m\u001B[38;5;124mProcessing files\u001B[39m\u001B[38;5;124m'\u001B[39m)]\n\u001B[1;32m     40\u001B[0m \u001B[38;5;28;01mreturn\u001B[39;00m frames\n",
      "File \u001B[0;32m~/Documents/WORKSPACE/yooink/src/yooink/data/data_manager.py:57\u001B[0m, in \u001B[0;36mDataManager.process_file\u001B[0;34m(data_url, use_dask)\u001B[0m\n\u001B[1;32m     42\u001B[0m \u001B[38;5;129m@staticmethod\u001B[39m\n\u001B[1;32m     43\u001B[0m \u001B[38;5;28;01mdef\u001B[39;00m \u001B[38;5;21mprocess_file\u001B[39m(\n\u001B[1;32m     44\u001B[0m         data_url: \u001B[38;5;28mstr\u001B[39m,\n\u001B[1;32m     45\u001B[0m         use_dask: \u001B[38;5;28mbool\u001B[39m \u001B[38;5;241m=\u001B[39m \u001B[38;5;28;01mFalse\u001B[39;00m\n\u001B[1;32m     46\u001B[0m ) \u001B[38;5;241m-\u001B[39m\u001B[38;5;241m>\u001B[39m xr\u001B[38;5;241m.\u001B[39mDataset \u001B[38;5;241m|\u001B[39m \u001B[38;5;28;01mNone\u001B[39;00m:\n\u001B[1;32m     47\u001B[0m \u001B[38;5;250m    \u001B[39m\u001B[38;5;124;03m\"\"\"\u001B[39;00m\n\u001B[1;32m     48\u001B[0m \u001B[38;5;124;03m    Process a single dataset file.\u001B[39;00m\n\u001B[1;32m     49\u001B[0m \n\u001B[0;32m   (...)\u001B[0m\n\u001B[1;32m     55\u001B[0m \u001B[38;5;124;03m        Processed xarray Dataset or None if processing failed.\u001B[39;00m\n\u001B[1;32m     56\u001B[0m \u001B[38;5;124;03m    \"\"\"\u001B[39;00m\n\u001B[0;32m---> 57\u001B[0m     \u001B[38;5;28;01mtry\u001B[39;00m:\n\u001B[1;32m     58\u001B[0m         r \u001B[38;5;241m=\u001B[39m requests\u001B[38;5;241m.\u001B[39mget(data_url, timeout\u001B[38;5;241m=\u001B[39m(\u001B[38;5;241m3.05\u001B[39m, \u001B[38;5;241m120\u001B[39m))\n\u001B[1;32m     59\u001B[0m         \u001B[38;5;28;01mif\u001B[39;00m \u001B[38;5;129;01mnot\u001B[39;00m r\u001B[38;5;241m.\u001B[39mok:\n",
      "File \u001B[0;32m_pydevd_bundle/pydevd_cython_darwin_311_64.pyx:1187\u001B[0m, in \u001B[0;36m_pydevd_bundle.pydevd_cython_darwin_311_64.SafeCallWrapper.__call__\u001B[0;34m()\u001B[0m\n",
      "File \u001B[0;32m_pydevd_bundle/pydevd_cython_darwin_311_64.pyx:627\u001B[0m, in \u001B[0;36m_pydevd_bundle.pydevd_cython_darwin_311_64.PyDBFrame.trace_dispatch\u001B[0;34m()\u001B[0m\n",
      "File \u001B[0;32m_pydevd_bundle/pydevd_cython_darwin_311_64.pyx:937\u001B[0m, in \u001B[0;36m_pydevd_bundle.pydevd_cython_darwin_311_64.PyDBFrame.trace_dispatch\u001B[0;34m()\u001B[0m\n",
      "File \u001B[0;32m_pydevd_bundle/pydevd_cython_darwin_311_64.pyx:928\u001B[0m, in \u001B[0;36m_pydevd_bundle.pydevd_cython_darwin_311_64.PyDBFrame.trace_dispatch\u001B[0;34m()\u001B[0m\n",
      "File \u001B[0;32m_pydevd_bundle/pydevd_cython_darwin_311_64.pyx:585\u001B[0m, in \u001B[0;36m_pydevd_bundle.pydevd_cython_darwin_311_64.PyDBFrame.do_wait_suspend\u001B[0;34m()\u001B[0m\n",
      "File \u001B[0;32m/Applications/PyCharm.app/Contents/plugins/python/helpers/pydev/pydevd.py:1201\u001B[0m, in \u001B[0;36mPyDB.do_wait_suspend\u001B[0;34m(self, thread, frame, event, arg, send_suspend_message, is_unhandled_exception)\u001B[0m\n\u001B[1;32m   1198\u001B[0m         from_this_thread\u001B[38;5;241m.\u001B[39mappend(frame_id)\n\u001B[1;32m   1200\u001B[0m \u001B[38;5;28;01mwith\u001B[39;00m \u001B[38;5;28mself\u001B[39m\u001B[38;5;241m.\u001B[39m_threads_suspended_single_notification\u001B[38;5;241m.\u001B[39mnotify_thread_suspended(thread_id, stop_reason):\n\u001B[0;32m-> 1201\u001B[0m     \u001B[38;5;28;43mself\u001B[39;49m\u001B[38;5;241;43m.\u001B[39;49m\u001B[43m_do_wait_suspend\u001B[49m\u001B[43m(\u001B[49m\u001B[43mthread\u001B[49m\u001B[43m,\u001B[49m\u001B[43m \u001B[49m\u001B[43mframe\u001B[49m\u001B[43m,\u001B[49m\u001B[43m \u001B[49m\u001B[43mevent\u001B[49m\u001B[43m,\u001B[49m\u001B[43m \u001B[49m\u001B[43marg\u001B[49m\u001B[43m,\u001B[49m\u001B[43m \u001B[49m\u001B[43msuspend_type\u001B[49m\u001B[43m,\u001B[49m\u001B[43m \u001B[49m\u001B[43mfrom_this_thread\u001B[49m\u001B[43m)\u001B[49m\n",
      "File \u001B[0;32m/Applications/PyCharm.app/Contents/plugins/python/helpers/pydev/pydevd.py:1216\u001B[0m, in \u001B[0;36mPyDB._do_wait_suspend\u001B[0;34m(self, thread, frame, event, arg, suspend_type, from_this_thread)\u001B[0m\n\u001B[1;32m   1213\u001B[0m             \u001B[38;5;28mself\u001B[39m\u001B[38;5;241m.\u001B[39m_call_mpl_hook()\n\u001B[1;32m   1215\u001B[0m         \u001B[38;5;28mself\u001B[39m\u001B[38;5;241m.\u001B[39mprocess_internal_commands()\n\u001B[0;32m-> 1216\u001B[0m         time\u001B[38;5;241m.\u001B[39msleep(\u001B[38;5;241m0.01\u001B[39m)\n\u001B[1;32m   1218\u001B[0m \u001B[38;5;28mself\u001B[39m\u001B[38;5;241m.\u001B[39mcancel_async_evaluation(get_current_thread_id(thread), \u001B[38;5;28mstr\u001B[39m(\u001B[38;5;28mid\u001B[39m(frame)))\n\u001B[1;32m   1220\u001B[0m \u001B[38;5;66;03m# process any stepping instructions\u001B[39;00m\n",
      "\u001B[0;31mKeyboardInterrupt\u001B[0m: "
     ]
    }
   ],
   "execution_count": 11
  },
  {
   "metadata": {},
   "cell_type": "code",
   "source": "datasets",
   "id": "ad3aff10d4d9493f",
   "outputs": [],
   "execution_count": null
  },
  {
   "metadata": {},
   "cell_type": "code",
   "source": "",
   "id": "e49bff920f342d69",
   "outputs": [],
   "execution_count": null
  }
 ],
 "metadata": {
  "kernelspec": {
   "display_name": "Python 3 (ipykernel)",
   "language": "python",
   "name": "python3"
  },
  "language_info": {
   "codemirror_mode": {
    "name": "ipython",
    "version": 3
   },
   "file_extension": ".py",
   "mimetype": "text/x-python",
   "name": "python",
   "nbconvert_exporter": "python",
   "pygments_lexer": "ipython3",
   "version": "3.11.6"
  }
 },
 "nbformat": 4,
 "nbformat_minor": 5
}
