{
 "cells": [
  {
   "cell_type": "markdown",
   "id": "e6170d4e-aca2-4360-a914-71be8f8d03d8",
   "metadata": {
    "collapsed": true,
    "jupyter": {
     "outputs_hidden": true
    }
   },
   "source": [
    "# Step 2: Get Data\n",
    "\n",
    "In this demo we'll actually grab some data using yooink 😎 \n",
    "\n",
    "If you feel like you're missing something (like details on API credentials) go back to the getting_started.ipynb notebook.\n",
    "\n",
    "Let's go!"
   ]
  },
  {
   "cell_type": "code",
   "id": "7ad01d9a-7054-419f-a91d-268c68bfaca2",
   "metadata": {
    "ExecuteTime": {
     "end_time": "2024-09-24T01:38:04.369586Z",
     "start_time": "2024-09-24T01:38:03.682335Z"
    }
   },
   "source": [
    "from yooink.api.client import APIClient\n",
    "from yooink.request.request_manager import RequestManager\n",
    "from yooink.data.data_manager import DataManager\n",
    "\n",
    "import os"
   ],
   "outputs": [],
   "execution_count": 1
  },
  {
   "cell_type": "code",
   "id": "64ab38ab-aa3e-4f9e-916b-cecd69859ead",
   "metadata": {
    "ExecuteTime": {
     "end_time": "2024-09-24T01:38:05.142431Z",
     "start_time": "2024-09-24T01:38:05.139387Z"
    }
   },
   "source": [
    "# Initialize the API client with your username and token. \n",
    "username = os.getenv('OOI_USER')\n",
    "token = os.getenv('OOI_TOKEN')"
   ],
   "outputs": [],
   "execution_count": 2
  },
  {
   "cell_type": "code",
   "id": "642f740872cfd55c",
   "metadata": {
    "ExecuteTime": {
     "end_time": "2024-09-24T01:38:06.229678Z",
     "start_time": "2024-09-24T01:38:06.223310Z"
    }
   },
   "source": [
    "api_client = APIClient(username, token)\n",
    "request_manager = RequestManager(api_client, use_file_cache=True)\n",
    "data_manager = DataManager()"
   ],
   "outputs": [],
   "execution_count": 3
  },
  {
   "cell_type": "code",
   "id": "30d6275b5470d36a",
   "metadata": {
    "ExecuteTime": {
     "end_time": "2024-09-24T01:38:07.617186Z",
     "start_time": "2024-09-24T01:38:07.614157Z"
    }
   },
   "source": [
    "# Set parameters for the data request\n",
    "site = \"CE02SHSM\"\n",
    "node = \"SBD11\"\n",
    "sensor = \"06-METBKA000\"\n",
    "method = \"telemetered\"\n",
    "stream = \"metbk_a_dcl_instrument\"\n",
    "beginDT = \"2023-03-01T00:00:00.000Z\"\n",
    "endDT = \"2023-03-14T00:00:00.000Z\""
   ],
   "outputs": [],
   "execution_count": 4
  },
  {
   "metadata": {},
   "cell_type": "markdown",
   "source": [
    "## Fetch the data from THREDDS\n",
    "\n",
    "In this step, we fetch the dataset URLs from the THREDDS server. It will \n",
    "make 5 attempts with increasing time gaps. You might want to grab a coffee \n",
    "while you wait. It can take a while for the THREDDS URL to be ready. If the \n",
    "request times out (honestly it probably will) just give it a few minutes. \n",
    "You will probably get an email when the dataset is ready for download. When \n",
    "you try again, it will not go through the entire request process bc the \n",
    "request URL is stored in a file called url_cache.json (unless you explicitly\n",
    " asked not to do that when initializing the RequestManager). \n"
   ],
   "id": "33c352e11ebf8247"
  },
  {
   "cell_type": "code",
   "id": "d1ef92b74ba02a93",
   "metadata": {
    "jupyter": {
     "is_executing": true
    },
    "ExecuteTime": {
     "start_time": "2024-09-24T01:44:15.099140Z"
    }
   },
   "source": [
    "datasets = request_manager.fetch_data_urls(site, node, sensor, method, \n",
    "                                           stream, beginDT, endDT)\n"
   ],
   "outputs": [
    {
     "name": "stdout",
     "output_type": "stream",
     "text": [
      "Requesting data for site: CE02SHSM, node: SBD11, sensor: 06-METBKA000, method: telemetered, stream: metbk_a_dcl_instrument\n"
     ]
    }
   ],
   "execution_count": null
  },
  {
   "metadata": {},
   "cell_type": "code",
   "source": "datasets",
   "id": "ad3aff10d4d9493f",
   "outputs": [],
   "execution_count": null
  },
  {
   "metadata": {},
   "cell_type": "code",
   "source": "",
   "id": "e49bff920f342d69",
   "outputs": [],
   "execution_count": null
  }
 ],
 "metadata": {
  "kernelspec": {
   "display_name": "Python 3 (ipykernel)",
   "language": "python",
   "name": "python3"
  },
  "language_info": {
   "codemirror_mode": {
    "name": "ipython",
    "version": 3
   },
   "file_extension": ".py",
   "mimetype": "text/x-python",
   "name": "python",
   "nbconvert_exporter": "python",
   "pygments_lexer": "ipython3",
   "version": "3.11.6"
  }
 },
 "nbformat": 4,
 "nbformat_minor": 5
}
