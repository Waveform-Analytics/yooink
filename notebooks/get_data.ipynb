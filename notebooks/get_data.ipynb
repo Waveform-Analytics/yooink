{
 "cells": [
  {
   "cell_type": "markdown",
   "id": "e6170d4e-aca2-4360-a914-71be8f8d03d8",
   "metadata": {
    "collapsed": true,
    "jupyter": {
     "outputs_hidden": true
    }
   },
   "source": [
    "# Get Data\n",
    "\n",
    "In this demo we'll actually grab some data using yooink 😎 \n",
    "\n",
    "If you feel like you're missing something (like details on API credentials) go back to the getting_started.ipynb notebook.\n",
    "\n",
    "Let's go!"
   ]
  },
  {
   "cell_type": "code",
   "id": "7ad01d9a-7054-419f-a91d-268c68bfaca2",
   "metadata": {
    "ExecuteTime": {
     "end_time": "2024-09-16T01:33:59.436435Z",
     "start_time": "2024-09-16T01:33:58.936025Z"
    }
   },
   "source": [
    "from yooink.api.client import APIClient\n",
    "from yooink.request.request_manager import RequestManager\n",
    "from yooink.data.data_manager import DataManager\n",
    "\n",
    "import os"
   ],
   "outputs": [],
   "execution_count": 1
  },
  {
   "cell_type": "code",
   "id": "64ab38ab-aa3e-4f9e-916b-cecd69859ead",
   "metadata": {
    "ExecuteTime": {
     "end_time": "2024-09-16T01:34:00.041987Z",
     "start_time": "2024-09-16T01:34:00.036936Z"
    }
   },
   "source": [
    "# Initialize the API client with your username and token. \n",
    "base_url = \"https://ooinet.oceanobservatories.org/api/m2m/12576/sensor/inv/\"\n",
    "username = os.getenv('OOI_USER')\n",
    "token = os.getenv('OOI_TOKEN')"
   ],
   "outputs": [],
   "execution_count": 2
  },
  {
   "cell_type": "code",
   "id": "642f740872cfd55c",
   "metadata": {
    "ExecuteTime": {
     "end_time": "2024-09-16T01:34:11.787938Z",
     "start_time": "2024-09-16T01:34:11.785092Z"
    }
   },
   "source": [
    "api_client = APIClient(base_url, username, token)\n",
    "request_manager = RequestManager(api_client)\n",
    "data_manager = DataManager()"
   ],
   "outputs": [],
   "execution_count": 4
  },
  {
   "cell_type": "code",
   "id": "30d6275b5470d36a",
   "metadata": {
    "ExecuteTime": {
     "end_time": "2024-09-16T01:38:19.649359Z",
     "start_time": "2024-09-16T01:38:19.646062Z"
    }
   },
   "source": [
    "# Set parameters for the data request\n",
    "site = \"CE02SHSM\"\n",
    "node = \"SBD11\"\n",
    "sensor = \"06-METBKA000\"\n",
    "method = \"telemetered\"\n",
    "stream = \"metbk_a_dcl_instrument\"\n",
    "beginDT = \"2023-03-01T00:00:00.000Z\"\n",
    "endDT = \"2023-04-01T00:00:00.000Z\""
   ],
   "outputs": [],
   "execution_count": 11
  },
  {
   "cell_type": "code",
   "id": "d1ef92b74ba02a93",
   "metadata": {
    "jupyter": {
     "is_executing": true
    },
    "ExecuteTime": {
     "start_time": "2024-09-16T01:42:29.028592Z"
    }
   },
   "source": [
    "# Fetch the dataset URLs from the THREDDS server\n",
    "datasets = request_manager.fetch_data_urls(site, node, sensor, method, \n",
    "                                           stream, beginDT, endDT)\n"
   ],
   "outputs": [],
   "execution_count": null
  },
  {
   "cell_type": "code",
   "id": "d39d4e44-93e1-483d-b3bd-3b7822987b20",
   "metadata": {},
   "source": [
    "\n",
    "\n",
    "\n",
    "# Filter out unnecessary datasets (e.g., 'VELPT' instrument)\n",
    "filtered_datasets = data_manager.filter_datasets(datasets, exclude=\"VELPT\")\n",
    "\n",
    "# Load the filtered datasets into an xarray dataset\n",
    "ds = data_manager.load_dataset(filtered_datasets)\n",
    "\n",
    "# Now you can work with the dataset\n",
    "print(ds)\n"
   ],
   "outputs": [],
   "execution_count": null
  },
  {
   "cell_type": "code",
   "id": "cd5ee469-8aba-40b8-98a4-bccf49f0435a",
   "metadata": {},
   "source": [],
   "outputs": [],
   "execution_count": null
  }
 ],
 "metadata": {
  "kernelspec": {
   "display_name": "Python 3 (ipykernel)",
   "language": "python",
   "name": "python3"
  },
  "language_info": {
   "codemirror_mode": {
    "name": "ipython",
    "version": 3
   },
   "file_extension": ".py",
   "mimetype": "text/x-python",
   "name": "python",
   "nbconvert_exporter": "python",
   "pygments_lexer": "ipython3",
   "version": "3.11.6"
  }
 },
 "nbformat": 4,
 "nbformat_minor": 5
}
